{
 "cells": [
  {
   "cell_type": "code",
   "execution_count": 3,
   "metadata": {},
   "outputs": [],
   "source": [
    "def hi(lang, name):\n",
    "    if lang == \"en\":\n",
    "        print(f\"Hello, {name}!\")\n",
    "    elif lang == \"ru\":\n",
    "        print(f\"Привет, {name}!\")\n",
    "    elif lang == \"ro\":\n",
    "        print(f\"Salut, {name}!\")\n",
    "    \n",
    "        "
   ]
  },
  {
   "cell_type": "code",
   "execution_count": 4,
   "metadata": {},
   "outputs": [
    {
     "name": "stdout",
     "output_type": "stream",
     "text": [
      "Hello, Igor!\n",
      "Привет, Игорь!\n",
      "Salut, Igor!\n"
     ]
    }
   ],
   "source": [
    "hi(\"en\", \"Igor\")\n",
    "hi(\"ru\", \"Игорь\")\n",
    "hi(\"ro\", \"Igor\")"
   ]
  }
 ],
 "metadata": {
  "interpreter": {
   "hash": "aecd030d4c8316a52bf122072e28f84bcc79844c2684e041fef2e3f1d9f59078"
  },
  "kernelspec": {
   "display_name": "Python 3.10.0 64-bit",
   "language": "python",
   "name": "python3"
  },
  "language_info": {
   "codemirror_mode": {
    "name": "ipython",
    "version": 3
   },
   "file_extension": ".py",
   "mimetype": "text/x-python",
   "name": "python",
   "nbconvert_exporter": "python",
   "pygments_lexer": "ipython3",
   "version": "3.10.0"
  },
  "orig_nbformat": 4
 },
 "nbformat": 4,
 "nbformat_minor": 2
}
